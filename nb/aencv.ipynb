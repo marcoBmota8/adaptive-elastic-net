{
 "cells": [
  {
   "cell_type": "code",
   "execution_count": 1,
   "id": "chronic-meeting",
   "metadata": {},
   "outputs": [],
   "source": [
    "%reload_ext autoreload\n",
    "%autoreload\n",
    "\n",
    "import glob\n",
    "import os\n",
    "import pathlib\n",
    "import sys\n",
    "\n",
    "import matplotlib\n",
    "import matplotlib.pyplot as plt\n",
    "import numpy as np\n",
    "import pandas as pd\n",
    "import seaborn\n",
    "from tqdm import tqdm\n",
    "\n",
    "matplotlib.rcParams[\"figure.figsize\"] = (24, 8)\n",
    "\n",
    "import mpl_hig\n",
    "\n",
    "mpl_hig.set(\"whitegrid\")"
   ]
  },
  {
   "cell_type": "code",
   "execution_count": 2,
   "id": "welsh-machinery",
   "metadata": {},
   "outputs": [],
   "source": [
    "import sys\n",
    "\n",
    "sys.path.append(\"..\")"
   ]
  },
  {
   "cell_type": "code",
   "execution_count": 3,
   "id": "flying-relaxation",
   "metadata": {},
   "outputs": [],
   "source": [
    "from aenet import AdaptiveElasticNet\n",
    "from aenet import AdaptiveElasticNetCV\n",
    "from sklearn.linear_model import ElasticNet\n",
    "from sklearn.linear_model import LinearRegression"
   ]
  },
  {
   "cell_type": "code",
   "execution_count": 4,
   "id": "desirable-language",
   "metadata": {},
   "outputs": [],
   "source": [
    "model = AdaptiveElasticNetCV()"
   ]
  },
  {
   "cell_type": "code",
   "execution_count": 5,
   "id": "toxic-warner",
   "metadata": {},
   "outputs": [],
   "source": [
    "from sklearn.datasets import make_regression\n",
    "from sklearn.model_selection import train_test_split\n",
    "\n",
    "n_samples = 2000\n",
    "n_features = 100\n",
    "n_informative = 10\n",
    "sn_ratio = 0.5\n",
    "\n",
    "X, y, true_coef = make_regression(\n",
    "    n_samples=n_samples,\n",
    "    n_features=n_features,\n",
    "    n_informative=n_informative,\n",
    "    coef=True,\n",
    "    random_state=42,\n",
    ")\n",
    "noise = sn_ratio * y.std() * np.random.randn(*y.shape)\n",
    "y += noise\n",
    "\n",
    "X_tr, X_te, y_tr, y_te = train_test_split(X, y, train_size=0.5, random_state=42)"
   ]
  },
  {
   "cell_type": "code",
   "execution_count": 6,
   "id": "hidden-burning",
   "metadata": {},
   "outputs": [
    {
     "data": {
      "text/plain": [
       "AdaptiveElasticNetCV()"
      ]
     },
     "execution_count": 6,
     "metadata": {},
     "output_type": "execute_result"
    }
   ],
   "source": [
    "model.fit(X_tr, y_tr)"
   ]
  },
  {
   "cell_type": "code",
   "execution_count": 7,
   "id": "answering-sudan",
   "metadata": {},
   "outputs": [
    {
     "data": {
      "text/plain": [
       "AdaptiveElasticNetCV()"
      ]
     },
     "execution_count": 7,
     "metadata": {},
     "output_type": "execute_result"
    }
   ],
   "source": [
    "model"
   ]
  },
  {
   "cell_type": "code",
   "execution_count": 9,
   "id": "renewable-south",
   "metadata": {},
   "outputs": [
    {
     "data": {
      "text/plain": [
       "0.2208483450602386"
      ]
     },
     "execution_count": 9,
     "metadata": {},
     "output_type": "execute_result"
    }
   ],
   "source": [
    "model.alpha_"
   ]
  },
  {
   "cell_type": "code",
   "execution_count": 10,
   "id": "tropical-champion",
   "metadata": {},
   "outputs": [
    {
     "name": "stdout",
     "output_type": "stream",
     "text": [
      "(1000, 100)\n"
     ]
    }
   ],
   "source": [
    "print(X_tr.shape)"
   ]
  },
  {
   "cell_type": "code",
   "execution_count": null,
   "id": "loved-event",
   "metadata": {},
   "outputs": [],
   "source": [
    "%%timeit\n",
    "\n",
    "model.fit(X_tr, y_tr)"
   ]
  },
  {
   "cell_type": "code",
   "execution_count": null,
   "id": "closing-value",
   "metadata": {},
   "outputs": [],
   "source": [
    "models = [LinearRegression(), ElasticNet(), AdaptiveElasticNet(), AdaptiveElasticNetCV()]\n",
    "\n",
    "for model in models:\n",
    "    model.fit(X_tr, y_tr)\n",
    "    model.y_pred = model.predict(X_te)"
   ]
  },
  {
   "cell_type": "code",
   "execution_count": null,
   "id": "prime-metadata",
   "metadata": {},
   "outputs": [],
   "source": [
    "for model in models:\n",
    "    print(model.__class__.__name__, model.score(X_te, y_te))"
   ]
  },
  {
   "cell_type": "code",
   "execution_count": null,
   "id": "preceding-connection",
   "metadata": {},
   "outputs": [],
   "source": [
    "for model in models:\n",
    "    plt.scatter(model.y_pred, y_te, label=model.__class__.__name__, s=5)\n",
    "\n",
    "plt.xlabel(\"y_pred\")\n",
    "plt.ylabel(\"y_true\")\n",
    "plt.legend()\n",
    "plt.show()"
   ]
  },
  {
   "cell_type": "code",
   "execution_count": null,
   "id": "forty-israeli",
   "metadata": {},
   "outputs": [],
   "source": []
  }
 ],
 "metadata": {
  "kernelspec": {
   "display_name": "Python 3",
   "language": "python",
   "name": "python3"
  },
  "language_info": {
   "codemirror_mode": {
    "name": "ipython",
    "version": 3
   },
   "file_extension": ".py",
   "mimetype": "text/x-python",
   "name": "python",
   "nbconvert_exporter": "python",
   "pygments_lexer": "ipython3",
   "version": "3.8.7"
  }
 },
 "nbformat": 4,
 "nbformat_minor": 5
}
